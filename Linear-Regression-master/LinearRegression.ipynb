{
  "nbformat": 4,
  "nbformat_minor": 0,
  "metadata": {
    "colab": {
      "name": "LinearRegression",
      "provenance": [],
      "collapsed_sections": []
    },
    "kernelspec": {
      "name": "python3",
      "display_name": "Python 3"
    },
    "language_info": {
      "name": "python"
    }
  },
  "cells": [
    {
      "cell_type": "code",
      "execution_count": null,
      "metadata": {
        "id": "7-fHK7yM3W8S"
      },
      "outputs": [],
      "source": [
        "import numpy as np \n",
        "import pandas as pd"
      ]
    },
    {
      "cell_type": "code",
      "source": [
        "df = pd.read_csv(\"/content/NORMAL_MLY_sample_csv.csv\")"
      ],
      "metadata": {
        "id": "iurmZOmF4Y5_"
      },
      "execution_count": null,
      "outputs": []
    },
    {
      "cell_type": "code",
      "source": [
        "df.head(5)"
      ],
      "metadata": {
        "colab": {
          "base_uri": "https://localhost:8080/",
          "height": 206
        },
        "id": "551v2__w4c2c",
        "outputId": "4bec7ddf-b815-4ad2-f603-e482bb9e0202"
      },
      "execution_count": null,
      "outputs": [
        {
          "output_type": "execute_result",
          "data": {
            "text/plain": [
              "             STATION          STATION_NAME  ELEVATION  LATITUDE  LONGITUDE  \\\n",
              "0  GHCND:USC00327027  PETERSBURG 2 N ND US      466.3   48.0355     -98.01   \n",
              "1  GHCND:USC00327027  PETERSBURG 2 N ND US      466.3   48.0355     -98.01   \n",
              "2  GHCND:USC00327027  PETERSBURG 2 N ND US      466.3   48.0355     -98.01   \n",
              "3  GHCND:USC00327027  PETERSBURG 2 N ND US      466.3   48.0355     -98.01   \n",
              "4  GHCND:USC00327027  PETERSBURG 2 N ND US      466.3   48.0355     -98.01   \n",
              "\n",
              "     DATE  MLY-TMIN-NORMAL  MLY-TMAX-NORMAL  MLY-PRCP-NORMAL  \n",
              "0  201001              -43              145               55  \n",
              "1  201002                4              199               44  \n",
              "2  201003              140              318               72  \n",
              "3  201004              294              517               98  \n",
              "4  201005              417              656              249  "
            ],
            "text/html": [
              "\n",
              "  <div id=\"df-c5951b12-0b26-42b6-833e-4f5966439e4b\">\n",
              "    <div class=\"colab-df-container\">\n",
              "      <div>\n",
              "<style scoped>\n",
              "    .dataframe tbody tr th:only-of-type {\n",
              "        vertical-align: middle;\n",
              "    }\n",
              "\n",
              "    .dataframe tbody tr th {\n",
              "        vertical-align: top;\n",
              "    }\n",
              "\n",
              "    .dataframe thead th {\n",
              "        text-align: right;\n",
              "    }\n",
              "</style>\n",
              "<table border=\"1\" class=\"dataframe\">\n",
              "  <thead>\n",
              "    <tr style=\"text-align: right;\">\n",
              "      <th></th>\n",
              "      <th>STATION</th>\n",
              "      <th>STATION_NAME</th>\n",
              "      <th>ELEVATION</th>\n",
              "      <th>LATITUDE</th>\n",
              "      <th>LONGITUDE</th>\n",
              "      <th>DATE</th>\n",
              "      <th>MLY-TMIN-NORMAL</th>\n",
              "      <th>MLY-TMAX-NORMAL</th>\n",
              "      <th>MLY-PRCP-NORMAL</th>\n",
              "    </tr>\n",
              "  </thead>\n",
              "  <tbody>\n",
              "    <tr>\n",
              "      <th>0</th>\n",
              "      <td>GHCND:USC00327027</td>\n",
              "      <td>PETERSBURG 2 N ND US</td>\n",
              "      <td>466.3</td>\n",
              "      <td>48.0355</td>\n",
              "      <td>-98.01</td>\n",
              "      <td>201001</td>\n",
              "      <td>-43</td>\n",
              "      <td>145</td>\n",
              "      <td>55</td>\n",
              "    </tr>\n",
              "    <tr>\n",
              "      <th>1</th>\n",
              "      <td>GHCND:USC00327027</td>\n",
              "      <td>PETERSBURG 2 N ND US</td>\n",
              "      <td>466.3</td>\n",
              "      <td>48.0355</td>\n",
              "      <td>-98.01</td>\n",
              "      <td>201002</td>\n",
              "      <td>4</td>\n",
              "      <td>199</td>\n",
              "      <td>44</td>\n",
              "    </tr>\n",
              "    <tr>\n",
              "      <th>2</th>\n",
              "      <td>GHCND:USC00327027</td>\n",
              "      <td>PETERSBURG 2 N ND US</td>\n",
              "      <td>466.3</td>\n",
              "      <td>48.0355</td>\n",
              "      <td>-98.01</td>\n",
              "      <td>201003</td>\n",
              "      <td>140</td>\n",
              "      <td>318</td>\n",
              "      <td>72</td>\n",
              "    </tr>\n",
              "    <tr>\n",
              "      <th>3</th>\n",
              "      <td>GHCND:USC00327027</td>\n",
              "      <td>PETERSBURG 2 N ND US</td>\n",
              "      <td>466.3</td>\n",
              "      <td>48.0355</td>\n",
              "      <td>-98.01</td>\n",
              "      <td>201004</td>\n",
              "      <td>294</td>\n",
              "      <td>517</td>\n",
              "      <td>98</td>\n",
              "    </tr>\n",
              "    <tr>\n",
              "      <th>4</th>\n",
              "      <td>GHCND:USC00327027</td>\n",
              "      <td>PETERSBURG 2 N ND US</td>\n",
              "      <td>466.3</td>\n",
              "      <td>48.0355</td>\n",
              "      <td>-98.01</td>\n",
              "      <td>201005</td>\n",
              "      <td>417</td>\n",
              "      <td>656</td>\n",
              "      <td>249</td>\n",
              "    </tr>\n",
              "  </tbody>\n",
              "</table>\n",
              "</div>\n",
              "      <button class=\"colab-df-convert\" onclick=\"convertToInteractive('df-c5951b12-0b26-42b6-833e-4f5966439e4b')\"\n",
              "              title=\"Convert this dataframe to an interactive table.\"\n",
              "              style=\"display:none;\">\n",
              "        \n",
              "  <svg xmlns=\"http://www.w3.org/2000/svg\" height=\"24px\"viewBox=\"0 0 24 24\"\n",
              "       width=\"24px\">\n",
              "    <path d=\"M0 0h24v24H0V0z\" fill=\"none\"/>\n",
              "    <path d=\"M18.56 5.44l.94 2.06.94-2.06 2.06-.94-2.06-.94-.94-2.06-.94 2.06-2.06.94zm-11 1L8.5 8.5l.94-2.06 2.06-.94-2.06-.94L8.5 2.5l-.94 2.06-2.06.94zm10 10l.94 2.06.94-2.06 2.06-.94-2.06-.94-.94-2.06-.94 2.06-2.06.94z\"/><path d=\"M17.41 7.96l-1.37-1.37c-.4-.4-.92-.59-1.43-.59-.52 0-1.04.2-1.43.59L10.3 9.45l-7.72 7.72c-.78.78-.78 2.05 0 2.83L4 21.41c.39.39.9.59 1.41.59.51 0 1.02-.2 1.41-.59l7.78-7.78 2.81-2.81c.8-.78.8-2.07 0-2.86zM5.41 20L4 18.59l7.72-7.72 1.47 1.35L5.41 20z\"/>\n",
              "  </svg>\n",
              "      </button>\n",
              "      \n",
              "  <style>\n",
              "    .colab-df-container {\n",
              "      display:flex;\n",
              "      flex-wrap:wrap;\n",
              "      gap: 12px;\n",
              "    }\n",
              "\n",
              "    .colab-df-convert {\n",
              "      background-color: #E8F0FE;\n",
              "      border: none;\n",
              "      border-radius: 50%;\n",
              "      cursor: pointer;\n",
              "      display: none;\n",
              "      fill: #1967D2;\n",
              "      height: 32px;\n",
              "      padding: 0 0 0 0;\n",
              "      width: 32px;\n",
              "    }\n",
              "\n",
              "    .colab-df-convert:hover {\n",
              "      background-color: #E2EBFA;\n",
              "      box-shadow: 0px 1px 2px rgba(60, 64, 67, 0.3), 0px 1px 3px 1px rgba(60, 64, 67, 0.15);\n",
              "      fill: #174EA6;\n",
              "    }\n",
              "\n",
              "    [theme=dark] .colab-df-convert {\n",
              "      background-color: #3B4455;\n",
              "      fill: #D2E3FC;\n",
              "    }\n",
              "\n",
              "    [theme=dark] .colab-df-convert:hover {\n",
              "      background-color: #434B5C;\n",
              "      box-shadow: 0px 1px 3px 1px rgba(0, 0, 0, 0.15);\n",
              "      filter: drop-shadow(0px 1px 2px rgba(0, 0, 0, 0.3));\n",
              "      fill: #FFFFFF;\n",
              "    }\n",
              "  </style>\n",
              "\n",
              "      <script>\n",
              "        const buttonEl =\n",
              "          document.querySelector('#df-c5951b12-0b26-42b6-833e-4f5966439e4b button.colab-df-convert');\n",
              "        buttonEl.style.display =\n",
              "          google.colab.kernel.accessAllowed ? 'block' : 'none';\n",
              "\n",
              "        async function convertToInteractive(key) {\n",
              "          const element = document.querySelector('#df-c5951b12-0b26-42b6-833e-4f5966439e4b');\n",
              "          const dataTable =\n",
              "            await google.colab.kernel.invokeFunction('convertToInteractive',\n",
              "                                                     [key], {});\n",
              "          if (!dataTable) return;\n",
              "\n",
              "          const docLinkHtml = 'Like what you see? Visit the ' +\n",
              "            '<a target=\"_blank\" href=https://colab.research.google.com/notebooks/data_table.ipynb>data table notebook</a>'\n",
              "            + ' to learn more about interactive tables.';\n",
              "          element.innerHTML = '';\n",
              "          dataTable['output_type'] = 'display_data';\n",
              "          await google.colab.output.renderOutput(dataTable, element);\n",
              "          const docLink = document.createElement('div');\n",
              "          docLink.innerHTML = docLinkHtml;\n",
              "          element.appendChild(docLink);\n",
              "        }\n",
              "      </script>\n",
              "    </div>\n",
              "  </div>\n",
              "  "
            ]
          },
          "metadata": {},
          "execution_count": 3
        }
      ]
    },
    {
      "cell_type": "code",
      "source": [
        "prcp = []\n",
        "min_normal = []\n",
        "max_normal = []"
      ],
      "metadata": {
        "id": "Es8XeSuH4eSp"
      },
      "execution_count": null,
      "outputs": []
    },
    {
      "cell_type": "code",
      "source": [
        "for i in range(len(df)):\n",
        "  prcp.append(df[\"MLY-PRCP-NORMAL\"][i])\n",
        "  min_normal.append(df[\"MLY-TMIN-NORMAL\"][i])\n",
        "  max_normal.append(df[\"MLY-TMAX-NORMAL\"][i])"
      ],
      "metadata": {
        "id": "Q0KiX3Hp405f"
      },
      "execution_count": null,
      "outputs": []
    },
    {
      "cell_type": "code",
      "source": [
        "data = [max_normal,prcp]\n",
        "print(data)"
      ],
      "metadata": {
        "colab": {
          "base_uri": "https://localhost:8080/"
        },
        "id": "ejTnlJnF-YnV",
        "outputId": "81c468ee-a91f-46db-ce98-d6a9d403d478"
      },
      "execution_count": null,
      "outputs": [
        {
          "output_type": "stream",
          "name": "stdout",
          "text": [
            "[array([145, 199, 318, 517, 656, 743, 793, 789, 685, 531, 337, 187]), array([ 55,  44,  72,  98, 249, 376, 322, 275, 208, 169,  81,  73])]\n"
          ]
        }
      ]
    },
    {
      "cell_type": "code",
      "source": [
        "import matplotlib.pyplot as plt \n",
        "plt.plot(max_normal, prcp, 'ro')\n",
        "plt.xlabel('max')\n",
        "plt.ylabel('average')\n",
        "plt.show()"
      ],
      "metadata": {
        "colab": {
          "base_uri": "https://localhost:8080/",
          "height": 497
        },
        "id": "FslIvaN69GRB",
        "outputId": "50e7a09a-a09b-4605-c4a9-e81831f75685"
      },
      "execution_count": null,
      "outputs": [
        {
          "output_type": "display_data",
          "data": {
            "text/plain": [
              "<Figure size 864x576 with 1 Axes>"
            ],
            "image/png": "[encoded data removed]"
          },
          "metadata": {
            "needs_background": "light"
          }
        }
      ]
    },
    {
      "cell_type": "code",
      "source": [
        "prcp = np.array([prcp])\n",
        "min_normal = np.array([min_normal])\n",
        "max_normal = np.array([max_normal])\n",
        "print(prcp.shape)\n",
        "print(max_normal.shape)\n",
        "print(min_normal.shape)\n"
      ],
      "metadata": {
        "colab": {
          "base_uri": "https://localhost:8080/"
        },
        "id": "mrvrX9EM5Uhy",
        "outputId": "746907b6-bb14-444f-ae16-d3fbc3225e5a"
      },
      "execution_count": null,
      "outputs": [
        {
          "output_type": "stream",
          "name": "stdout",
          "text": [
            "(1, 12)\n",
            "(1, 12)\n",
            "(1, 12)\n"
          ]
        }
      ]
    },
    {
      "cell_type": "code",
      "source": [
        "print(max_normal)"
      ],
      "metadata": {
        "colab": {
          "base_uri": "https://localhost:8080/"
        },
        "id": "lKBJ3knA56jc",
        "outputId": "53b6fc7d-56e8-43fa-bf6f-e672636bc7eb"
      },
      "execution_count": null,
      "outputs": [
        {
          "output_type": "stream",
          "name": "stdout",
          "text": [
            "[[145 199 318 517 656 743 793 789 685 531 337 187]]\n"
          ]
        }
      ]
    },
    {
      "cell_type": "code",
      "source": [
        "def loss(y_true,y_predict):\n",
        "  res = 0\n",
        "  m = len(y_true)\n",
        "  for i in range(len(y_true)):\n",
        "    res+= (y_true[i] - y_predict[i])**2\n",
        "  return float(res/m)"
      ],
      "metadata": {
        "id": "qwoNlNBn6Jg7"
      },
      "execution_count": null,
      "outputs": []
    },
    {
      "cell_type": "code",
      "source": [
        "class LinearRegression:\n",
        "  def __init__(self):\n",
        "    self.w0 = 0\n",
        "    self.w1 = 0\n",
        "    self.y0 = 0\n",
        "    self.X =[]\n",
        "    self.y = []\n",
        "  def proof(self,X,y):\n",
        "    self.X = X\n",
        "    self.y = y\n",
        "    one = np.ones((X.shape[0],1))\n",
        "    Xbar = np.concatenate((one,X),axis = 1)\n",
        "\n",
        "    a = np.dot(Xbar.T,Xbar)\n",
        "    b = np.dot(Xbar.T,y)\n",
        "    w = np.dot(np.linalg.pinv(a),b)\n",
        "    self.w0 = w[0][0]\n",
        "    self.w1 = w[1][0]\n",
        "    print(\"w0 update to\", self.w0)\n",
        "    print(\"w1 update to\",self.w1)\n",
        "    self.x0 = np.linspace(0,500,2)\n",
        "    self.y0 = w0 + w1*x0\n",
        "    # print(y0,\"=\",w0,\"+\",w1,\"*\",x0)\n",
        "    print(\"Finish update weight\")\n",
        "  def get_weight(self):\n",
        "    print(\"w1:\", self.w1)\n",
        "    print(\"w0:\",self.w0)\n",
        "    return (self.w1,self.w0)\n",
        "  def plot_graph(self):\n",
        "    if self.X == [] or self.y == []:\n",
        "      print(\"fail to plot, please add data\")\n",
        "      return False\n",
        "    else:\n",
        "      plt.plot(X.T, y.T, 'ro') \n",
        "      plt.plot(x0, y0)             \n",
        "      plt.xlabel('target temperature')\n",
        "      plt.ylabel('prcp')\n",
        "      plt.show()\n",
        "  def predict(self,x):\n",
        "    return np.round(self.w1*x + w0,5)\n",
        "  def loss(self,y_true):\n",
        "    res = 0\n",
        "    m = len(y_true)\n",
        "    for i in range(len(y_true)):\n",
        "      res+= (y_true[i] - self.predict(y))**2\n",
        "    return float(res/m)"
      ],
      "metadata": {
        "id": "q6wxWD9mEMZR"
      },
      "execution_count": 71,
      "outputs": []
    },
    {
      "cell_type": "code",
      "source": [
        "linear.predict(180)"
      ],
      "metadata": {
        "colab": {
          "base_uri": "https://localhost:8080/"
        },
        "id": "IMnVm9kxGkjq",
        "outputId": "e05c9a4a-9e91-4671-bd1d-ad86876cfb90"
      },
      "execution_count": 75,
      "outputs": [
        {
          "output_type": "execute_result",
          "data": {
            "text/plain": [
              "180.0"
            ]
          },
          "metadata": {},
          "execution_count": 75
        }
      ]
    },
    {
      "cell_type": "code",
      "source": [
        "linear = LinearRegression()\n"
      ],
      "metadata": {
        "id": "8E-LIiv4GLTv"
      },
      "execution_count": 73,
      "outputs": []
    },
    {
      "cell_type": "code",
      "source": [
        "linear.proof(min_normal.T,prcp.T)"
      ],
      "metadata": {
        "colab": {
          "base_uri": "https://localhost:8080/"
        },
        "id": "-fqjw3nxGRcE",
        "outputId": "87ccb04a-13c6-406c-cbb9-4cdc651d74fa"
      },
      "execution_count": 74,
      "outputs": [
        {
          "output_type": "stream",
          "name": "stdout",
          "text": [
            "w0 update to -1.864464138634503e-11\n",
            "w1 update to 1.0000000000000773\n",
            "Finish update weight\n"
          ]
        }
      ]
    },
    {
      "cell_type": "code",
      "source": [
        "print(linear.get_weight())"
      ],
      "metadata": {
        "id": "GgzDgFvxGYz4",
        "colab": {
          "base_uri": "https://localhost:8080/"
        },
        "outputId": "4eae01c7-9379-46af-891d-7bc214840361"
      },
      "execution_count": 70,
      "outputs": [
        {
          "output_type": "stream",
          "name": "stdout",
          "text": [
            "w1: 1.0000000000000773\n",
            "w0: -1.864464138634503e-11\n",
            "(1.0000000000000773, -1.864464138634503e-11)\n"
          ]
        }
      ]
    },
    {
      "cell_type": "code",
      "source": [
        "def linear_regression(X,y):\n",
        "  one = np.ones((X.shape[0],1))\n",
        "  Xbar = np.concatenate((one,X),axis = 1)\n",
        "\n",
        "  a = np.dot(Xbar.T,Xbar)\n",
        "  b = np.dot(Xbar.T,y)\n",
        "  w = np.dot(np.linalg.pinv(a),b)\n",
        "  print(\"w:\",w)\n",
        "  w0 = w[0][0]\n",
        "  w1 = w[1][0]\n",
        "  x0 = np.linspace(0,500,2)\n",
        "  y0 = w0 + w1*x0\n",
        "  print(y0,\"=\",w0,\"+\",w1,\"*\",x0)\n",
        "  plt.plot(X.T, y.T, 'ro') \n",
        "  plt.plot(x0, y0)             \n",
        "  plt.xlabel('max temperature')\n",
        "  plt.ylabel('prcp')\n",
        "  plt.show()"
      ],
      "metadata": {
        "id": "SLL-xDIS76U_"
      },
      "execution_count": null,
      "outputs": []
    },
    {
      "cell_type": "code",
      "source": [
        "linear_regression(min_normal.T,prcp.T)"
      ],
      "metadata": {
        "colab": {
          "base_uri": "https://localhost:8080/",
          "height": 549
        },
        "id": "-R0MAaEhC0n3",
        "outputId": "23ff898b-c13c-4b35-b1a8-10a443e3b505"
      },
      "execution_count": null,
      "outputs": [
        {
          "output_type": "stream",
          "name": "stdout",
          "text": [
            "w: [[-1.86446414e-11]\n",
            " [ 1.00000000e+00]]\n",
            "[-1.86446414e-11  5.00000000e+02] = -1.864464138634503e-11 + 1.0000000000000773 * [  0. 500.]\n"
          ]
        },
        {
          "output_type": "display_data",
          "data": {
            "text/plain": [
              "<Figure size 864x576 with 1 Axes>"
            ],
            "image/png": "[encoded data removed]"
          },
          "metadata": {
            "needs_background": "light"
          }
        }
      ]
    },
    {
      "cell_type": "code",
      "source": [
        "X = min_normal.T\n",
        "y = prcp.T\n",
        "one = np.ones((X.shape[0],1))\n",
        "Xbar = np.concatenate((one,X),axis = 1)\n",
        "\n",
        "a = np.dot(Xbar.T,Xbar)\n",
        "b = np.dot(Xbar.T,y)\n",
        "w = np.dot(np.linalg.pinv(a),b)\n",
        "print(\"w:\",w)\n",
        "w0 = w[0][0]\n",
        "w1 = w[1][0]\n",
        "x0 = np.linspace(0,500,2)\n",
        "y0 = w0 + w1*x0\n",
        "print(y0,\"=\",w0,\"+\",w1,\"*\",x0)\n",
        "plt.plot(X.T, y.T, 'ro') \n",
        "plt.plot(x0, y0)             \n",
        "plt.xlabel('max temperature')\n",
        "plt.ylabel('prcp')\n",
        "plt.show()"
      ],
      "metadata": {
        "colab": {
          "base_uri": "https://localhost:8080/",
          "height": 549
        },
        "id": "6t9G4EPWCUOI",
        "outputId": "4ee23bbd-7a99-4916-dcaa-8ea54eadd670"
      },
      "execution_count": null,
      "outputs": [
        {
          "output_type": "stream",
          "name": "stdout",
          "text": [
            "w: [[-1.86446414e-11]\n",
            " [ 1.00000000e+00]]\n",
            "[-1.86446414e-11  5.00000000e+02] = -1.864464138634503e-11 + 1.0000000000000773 * [  0. 500.]\n"
          ]
        },
        {
          "output_type": "display_data",
          "data": {
            "text/plain": [
              "<Figure size 864x576 with 1 Axes>"
            ],
            "image/png": "[encoded data removed]"
          },
          "metadata": {
            "needs_background": "light"
          }
        }
      ]
    },
    {
      "cell_type": "code",
      "source": [
        "y1 = w1*155 + w0\n",
        "y2 = w1*160 + w0"
      ],
      "metadata": {
        "id": "K6AX0uu7Dysd"
      },
      "execution_count": null,
      "outputs": []
    },
    {
      "cell_type": "code",
      "source": [
        "print(y1,y2)"
      ],
      "metadata": {
        "colab": {
          "base_uri": "https://localhost:8080/"
        },
        "id": "zYePRQXWD3rC",
        "outputId": "1ed01d53-a5ee-4faa-c64d-49ea6949dcb1"
      },
      "execution_count": null,
      "outputs": [
        {
          "output_type": "stream",
          "name": "stdout",
          "text": [
            "154.99999999999332 159.99999999999372\n"
          ]
        }
      ]
    }
  ]
}